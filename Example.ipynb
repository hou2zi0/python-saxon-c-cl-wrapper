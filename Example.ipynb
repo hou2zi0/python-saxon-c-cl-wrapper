{
 "cells": [
  {
   "cell_type": "markdown",
   "metadata": {
    "toc": "true"
   },
   "source": [
    "# Table of Contents\n",
    " <p>"
   ]
  },
  {
   "cell_type": "code",
   "execution_count": 1,
   "metadata": {
    "ExecuteTime": {
     "end_time": "2019-06-15T13:59:14.949227Z",
     "start_time": "2019-06-15T13:59:13.567118Z"
    }
   },
   "outputs": [
    {
     "name": "stdout",
     "output_type": "stream",
     "text": [
      "Saxon path set to /Users/max/saxon/saxon9he.jar.\n"
     ]
    }
   ],
   "source": [
    "from Py3SaxCCLIWrapper import SaxWrapper as SW"
   ]
  },
  {
   "cell_type": "code",
   "execution_count": 2,
   "metadata": {
    "ExecuteTime": {
     "end_time": "2019-06-15T13:59:14.958996Z",
     "start_time": "2019-06-15T13:59:14.953281Z"
    }
   },
   "outputs": [],
   "source": [
    "PMS = SW.PyMiniSaxon(file='/Users/max/test.xml')"
   ]
  },
  {
   "cell_type": "code",
   "execution_count": 3,
   "metadata": {
    "ExecuteTime": {
     "end_time": "2019-06-15T13:59:17.260217Z",
     "start_time": "2019-06-15T13:59:14.962981Z"
    }
   },
   "outputs": [
    {
     "name": "stdout",
     "output_type": "stream",
     "text": [
      "The query //b[@id=\"x\"] returned <b id=\"x\">Eintrag <s>mit einem</s> X</b><b id=\"x\">Zweiter Eintrag mit X</b> items.\n"
     ]
    },
    {
     "data": {
      "text/plain": [
       "'<b id=\"x\">Eintrag <s>mit einem</s> X</b><b id=\"x\">Zweiter Eintrag mit X</b>'"
      ]
     },
     "execution_count": 3,
     "metadata": {},
     "output_type": "execute_result"
    }
   ],
   "source": [
    "PMS.XPath('//b[@id=\"x\"]')"
   ]
  },
  {
   "cell_type": "code",
   "execution_count": 4,
   "metadata": {
    "ExecuteTime": {
     "end_time": "2019-06-15T13:59:18.726557Z",
     "start_time": "2019-06-15T13:59:17.264907Z"
    }
   },
   "outputs": [
    {
     "name": "stdout",
     "output_type": "stream",
     "text": [
      "The transformation /Users/max/test.xsl returned:\n",
      "<a>\n",
      "    <b-extended>Eintrag <s>mit einem</s> X</b-extended>\n",
      "    <b-extended>Eintrag mit Z</b-extended>\n",
      "    <b-extended>Zweiter Eintrag mit X</b-extended>\n",
      "</a>\n"
     ]
    },
    {
     "data": {
      "text/plain": [
       "'<a>\\n    <b-extended>Eintrag <s>mit einem</s> X</b-extended>\\n    <b-extended>Eintrag mit Z</b-extended>\\n    <b-extended>Zweiter Eintrag mit X</b-extended>\\n</a>'"
      ]
     },
     "execution_count": 4,
     "metadata": {},
     "output_type": "execute_result"
    }
   ],
   "source": [
    "PMS.XSLT('/Users/max/test.xsl')"
   ]
  },
  {
   "cell_type": "code",
   "execution_count": 5,
   "metadata": {
    "ExecuteTime": {
     "end_time": "2019-06-15T13:59:19.973961Z",
     "start_time": "2019-06-15T13:59:18.730043Z"
    }
   },
   "outputs": [
    {
     "name": "stdout",
     "output_type": "stream",
     "text": [
      "The transformation /Users/max/test.xsl returned:\n",
      "<a>\n",
      "    <b-extended>Eintrag <s>mit einem</s> X</b-extended>\n",
      "    <b-extended>Eintrag mit Z</b-extended>\n",
      "    <b-extended>Zweiter Eintrag mit X</b-extended>\n",
      "</a>\n"
     ]
    }
   ],
   "source": [
    "fromString = PMS.XSLT('/Users/max/test.xsl')"
   ]
  },
  {
   "cell_type": "code",
   "execution_count": 6,
   "metadata": {
    "ExecuteTime": {
     "end_time": "2019-06-15T13:59:20.981490Z",
     "start_time": "2019-06-15T13:59:19.976926Z"
    }
   },
   "outputs": [
    {
     "name": "stdout",
     "output_type": "stream",
     "text": [
      "The query //b-extended/s returned <s>mit einem</s> items.\n"
     ]
    },
    {
     "data": {
      "text/plain": [
       "'<s>mit einem</s>'"
      ]
     },
     "execution_count": 6,
     "metadata": {},
     "output_type": "execute_result"
    }
   ],
   "source": [
    "PMS.XPath('//b-extended/s',fromString=fromString)"
   ]
  },
  {
   "cell_type": "code",
   "execution_count": 7,
   "metadata": {
    "ExecuteTime": {
     "end_time": "2019-06-15T13:59:21.925461Z",
     "start_time": "2019-06-15T13:59:20.983909Z"
    }
   },
   "outputs": [
    {
     "name": "stdout",
     "output_type": "stream",
     "text": [
      "The query //b returned Eintrag mit einem X; Eintrag mit Z; Zweiter Eintrag mit X items.\n"
     ]
    },
    {
     "data": {
      "text/plain": [
       "['Eintrag mit einem X', 'Eintrag mit Z', 'Zweiter Eintrag mit X']"
      ]
     },
     "execution_count": 7,
     "metadata": {},
     "output_type": "execute_result"
    }
   ],
   "source": [
    "PMS.findAllTextNodesOf('//b')"
   ]
  },
  {
   "cell_type": "code",
   "execution_count": 8,
   "metadata": {
    "ExecuteTime": {
     "end_time": "2019-06-15T13:59:21.933771Z",
     "start_time": "2019-06-15T13:59:21.929964Z"
    }
   },
   "outputs": [],
   "source": [
    "fromString = \"\"\"<a>\n",
    "    <b id=\"x\">Eintrag <s>mit einem</s> X</b>\n",
    "    <b id=\"z\">Eintrag mit Z</b>\n",
    "    <b id=\"x\">Zweiter Eintrag mit X</b>\n",
    "</a>\"\"\""
   ]
  },
  {
   "cell_type": "code",
   "execution_count": 9,
   "metadata": {
    "ExecuteTime": {
     "end_time": "2019-06-15T13:59:21.948939Z",
     "start_time": "2019-06-15T13:59:21.938096Z"
    }
   },
   "outputs": [
    {
     "name": "stdout",
     "output_type": "stream",
     "text": [
      "<a>\n",
      "    <b id=\"x\">Eintrag <s>mit einem</s> X</b>\n",
      "    <b id=\"z\">Eintrag mit Z</b>\n",
      "    <b id=\"x\">Zweiter Eintrag mit X</b>\n",
      "</a>\n"
     ]
    }
   ],
   "source": [
    "print(fromString)"
   ]
  },
  {
   "cell_type": "code",
   "execution_count": 10,
   "metadata": {
    "ExecuteTime": {
     "end_time": "2019-06-15T13:59:23.376625Z",
     "start_time": "2019-06-15T13:59:21.952726Z"
    }
   },
   "outputs": [
    {
     "name": "stdout",
     "output_type": "stream",
     "text": [
      "The transformation /Users/max/test.xsl returned:\n",
      "<a>\n",
      "    <b-extended>Eintrag <s>mit einem</s> X</b-extended>\n",
      "    <b-extended>Eintrag mit Z</b-extended>\n",
      "    <b-extended>Zweiter Eintrag mit X</b-extended>\n",
      "</a>\n"
     ]
    },
    {
     "data": {
      "text/plain": [
       "'<a>\\n    <b-extended>Eintrag <s>mit einem</s> X</b-extended>\\n    <b-extended>Eintrag mit Z</b-extended>\\n    <b-extended>Zweiter Eintrag mit X</b-extended>\\n</a>'"
      ]
     },
     "execution_count": 10,
     "metadata": {},
     "output_type": "execute_result"
    }
   ],
   "source": [
    "PMS.XSLT('/Users/max/test.xsl', fromString=fromString)"
   ]
  },
  {
   "cell_type": "code",
   "execution_count": 11,
   "metadata": {
    "ExecuteTime": {
     "end_time": "2019-06-15T13:59:23.386845Z",
     "start_time": "2019-06-15T13:59:23.380269Z"
    }
   },
   "outputs": [
    {
     "name": "stdout",
     "output_type": "stream",
     "text": [
      "File Path error: \"False\" is not a correct path.\n"
     ]
    }
   ],
   "source": [
    "PMS_without_source_file = SW.PyMiniSaxon()"
   ]
  },
  {
   "cell_type": "code",
   "execution_count": 12,
   "metadata": {
    "ExecuteTime": {
     "end_time": "2019-06-15T13:59:24.389909Z",
     "start_time": "2019-06-15T13:59:23.390369Z"
    }
   },
   "outputs": [
    {
     "name": "stdout",
     "output_type": "stream",
     "text": [
      "The query //b[@id=\"x\"] returned <b id=\"x\">Eintrag <s>mit einem</s> X</b><b id=\"x\">Zweiter Eintrag mit X</b> items.\n"
     ]
    },
    {
     "data": {
      "text/plain": [
       "'<b id=\"x\">Eintrag <s>mit einem</s> X</b><b id=\"x\">Zweiter Eintrag mit X</b>'"
      ]
     },
     "execution_count": 12,
     "metadata": {},
     "output_type": "execute_result"
    }
   ],
   "source": [
    "PMS_without_source_file.XPath('//b[@id=\"x\"]', fromString)"
   ]
  },
  {
   "cell_type": "code",
   "execution_count": null,
   "metadata": {
    "ExecuteTime": {
     "end_time": "2019-06-15T13:57:36.300614Z",
     "start_time": "2019-06-15T13:57:36.294634Z"
    }
   },
   "outputs": [],
   "source": []
  },
  {
   "cell_type": "code",
   "execution_count": null,
   "metadata": {
    "ExecuteTime": {
     "end_time": "2019-06-15T13:49:18.559903Z",
     "start_time": "2019-06-15T13:49:18.551600Z"
    }
   },
   "outputs": [],
   "source": []
  },
  {
   "cell_type": "code",
   "execution_count": null,
   "metadata": {},
   "outputs": [],
   "source": []
  }
 ],
 "metadata": {
  "kernelspec": {
   "display_name": "Python 3",
   "language": "python",
   "name": "python3"
  },
  "language_info": {
   "codemirror_mode": {
    "name": "ipython",
    "version": 3
   },
   "file_extension": ".py",
   "mimetype": "text/x-python",
   "name": "python",
   "nbconvert_exporter": "python",
   "pygments_lexer": "ipython3",
   "version": "3.7.3"
  },
  "toc": {
   "colors": {
    "hover_highlight": "#DAA520",
    "navigate_num": "#000000",
    "navigate_text": "#333333",
    "running_highlight": "#FF0000",
    "selected_highlight": "#FFD700",
    "sidebar_border": "#EEEEEE",
    "wrapper_background": "#FFFFFF"
   },
   "moveMenuLeft": true,
   "nav_menu": {
    "height": "12px",
    "width": "252px"
   },
   "navigate_menu": true,
   "number_sections": true,
   "sideBar": false,
   "threshold": 4,
   "toc_cell": true,
   "toc_section_display": "block",
   "toc_window_display": true,
   "widenNotebook": false
  }
 },
 "nbformat": 4,
 "nbformat_minor": 2
}
