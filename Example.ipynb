{
 "cells": [
  {
   "cell_type": "markdown",
   "metadata": {
    "toc": "true"
   },
   "source": [
    "# Table of Contents\n",
    " <p><div class=\"lev1 toc-item\"><a href=\"#Basic-usage\" data-toc-modified-id=\"Basic-usage-1\"><span class=\"toc-item-num\">1&nbsp;&nbsp;</span>Basic usage</a></div><div class=\"lev2 toc-item\"><a href=\"#Some-methods\" data-toc-modified-id=\"Some-methods-11\"><span class=\"toc-item-num\">1.1&nbsp;&nbsp;</span>Some methods</a></div><div class=\"lev2 toc-item\"><a href=\"#String-input\" data-toc-modified-id=\"String-input-12\"><span class=\"toc-item-num\">1.2&nbsp;&nbsp;</span>String input</a></div><div class=\"lev2 toc-item\"><a href=\"#Instantiation-without-source-file\" data-toc-modified-id=\"Instantiation-without-source-file-13\"><span class=\"toc-item-num\">1.3&nbsp;&nbsp;</span>Instantiation without source file</a></div>"
   ]
  },
  {
   "cell_type": "markdown",
   "metadata": {
    "ExecuteTime": {
     "end_time": "2019-06-15T14:34:05.668980Z",
     "start_time": "2019-06-15T14:34:05.663938Z"
    }
   },
   "source": [
    "# Basic usage"
   ]
  },
  {
   "cell_type": "code",
   "execution_count": 4,
   "metadata": {
    "ExecuteTime": {
     "end_time": "2019-06-15T14:34:47.795446Z",
     "start_time": "2019-06-15T14:34:46.314821Z"
    }
   },
   "outputs": [
    {
     "name": "stdout",
     "output_type": "stream",
     "text": [
      "Saxon path set to /Users/max/saxon/saxon9he.jar.\n"
     ]
    }
   ],
   "source": [
    "from Py3SaxCCLIWrapper import SaxWrapper as SW"
   ]
  },
  {
   "cell_type": "code",
   "execution_count": 2,
   "metadata": {
    "ExecuteTime": {
     "end_time": "2019-06-15T14:08:00.283789Z",
     "start_time": "2019-06-15T14:08:00.273523Z"
    }
   },
   "outputs": [
    {
     "name": "stdout",
     "output_type": "stream",
     "text": [
      "<?xml version=\"1.0\" encoding=\"UTF-8\"?>\n",
      "<a>\n",
      "    <b id=\"x\">Eintrag <s>mit einem</s> X</b>\n",
      "    <b id=\"z\">Eintrag mit Z</b>\n",
      "    <b id=\"x\">Zweiter Eintrag mit X</b>\n",
      "</a>\n",
      "\n"
     ]
    }
   ],
   "source": [
    "# Example XML file \n",
    "with open('/Users/max/test.xml', 'r') as test:\n",
    "    print(test.read())"
   ]
  },
  {
   "cell_type": "code",
   "execution_count": 5,
   "metadata": {
    "ExecuteTime": {
     "end_time": "2019-06-15T14:34:50.438485Z",
     "start_time": "2019-06-15T14:34:50.430721Z"
    }
   },
   "outputs": [],
   "source": [
    "# Instantiate the object with an XML file to work on \n",
    "PMS = SW.PyMiniSaxon(file='/Users/max/test.xml')"
   ]
  },
  {
   "cell_type": "code",
   "execution_count": 4,
   "metadata": {
    "ExecuteTime": {
     "end_time": "2019-06-15T14:08:02.710899Z",
     "start_time": "2019-06-15T14:08:00.296221Z"
    }
   },
   "outputs": [
    {
     "name": "stdout",
     "output_type": "stream",
     "text": [
      "The query //b[@id=\"x\"] returned <b id=\"x\">Eintrag <s>mit einem</s> X</b><b id=\"x\">Zweiter Eintrag mit X</b> items.\n"
     ]
    },
    {
     "data": {
      "text/plain": [
       "'<b id=\"x\">Eintrag <s>mit einem</s> X</b><b id=\"x\">Zweiter Eintrag mit X</b>'"
      ]
     },
     "execution_count": 4,
     "metadata": {},
     "output_type": "execute_result"
    }
   ],
   "source": [
    "# XPath method applied on 'test.xml'\n",
    "PMS.XPath('//b[@id=\"x\"]')"
   ]
  },
  {
   "cell_type": "code",
   "execution_count": 17,
   "metadata": {
    "ExecuteTime": {
     "end_time": "2019-06-15T14:17:03.210249Z",
     "start_time": "2019-06-15T14:17:00.769510Z"
    }
   },
   "outputs": [
    {
     "name": "stdout",
     "output_type": "stream",
     "text": [
      "The query //b[@id=\"x\"] returned 2 items.\n"
     ]
    },
    {
     "data": {
      "text/plain": [
       "2"
      ]
     },
     "execution_count": 17,
     "metadata": {},
     "output_type": "execute_result"
    }
   ],
   "source": [
    "# Count method applied on 'test.xml'\n",
    "PMS.count('//b[@id=\"x\"]')"
   ]
  },
  {
   "cell_type": "markdown",
   "metadata": {},
   "source": [
    "## Some methods"
   ]
  },
  {
   "cell_type": "code",
   "execution_count": 1,
   "metadata": {
    "ExecuteTime": {
     "end_time": "2019-06-15T14:21:12.278356Z",
     "start_time": "2019-06-15T14:21:12.267706Z"
    }
   },
   "outputs": [
    {
     "name": "stdout",
     "output_type": "stream",
     "text": [
      "<?xml version=\"1.0\" encoding=\"UTF-8\"?>\n",
      "<xsl:stylesheet xmlns:xsl=\"http://www.w3.org/1999/XSL/Transform\"\n",
      "    xmlns:xs=\"http://www.w3.org/2001/XMLSchema\"\n",
      "    xmlns:output=\"http://www.w3.org/2010/xslt-xquery-serialization\"\n",
      "    exclude-result-prefixes=\"#all\"\n",
      "    version=\"3.0\">\n",
      "    <xsl:strip-space elements=\"ParagraphStyleRange Footnote CharacterStyleRange Content\"/>\n",
      "    <xsl:output indent=\"no\" method=\"xml\"/>\n",
      "    <xsl:mode on-no-match=\"shallow-copy\"/>\n",
      "    <xsl:variable name=\"serial-params\">\n",
      "        <output:serialization-parameters>\n",
      "            <output:omit-xml-declaration value=\"yes\"/>\n",
      "        </output:serialization-parameters>\n",
      "    </xsl:variable>\n",
      "    \n",
      "    <xsl:template match=\"/\">\n",
      "        <xsl:apply-templates/>\n",
      "    </xsl:template>\n",
      "    \n",
      "    <xsl:template match=\"b\">\n",
      "        <b-extended><xsl:apply-templates/></b-extended>\n",
      "    </xsl:template>\n",
      "    \n",
      "</xsl:stylesheet>\n"
     ]
    }
   ],
   "source": [
    "# Example XML file \n",
    "with open('/Users/max/test.xsl', 'r') as test:\n",
    "    print(test.read())"
   ]
  },
  {
   "cell_type": "code",
   "execution_count": 5,
   "metadata": {
    "ExecuteTime": {
     "end_time": "2019-06-15T14:08:04.218635Z",
     "start_time": "2019-06-15T14:08:02.715442Z"
    }
   },
   "outputs": [
    {
     "name": "stdout",
     "output_type": "stream",
     "text": [
      "The transformation /Users/max/test.xsl returned:\n",
      "<a>\n",
      "    <b-extended>Eintrag <s>mit einem</s> X</b-extended>\n",
      "    <b-extended>Eintrag mit Z</b-extended>\n",
      "    <b-extended>Zweiter Eintrag mit X</b-extended>\n",
      "</a>\n"
     ]
    },
    {
     "data": {
      "text/plain": [
       "'<a>\\n    <b-extended>Eintrag <s>mit einem</s> X</b-extended>\\n    <b-extended>Eintrag mit Z</b-extended>\\n    <b-extended>Zweiter Eintrag mit X</b-extended>\\n</a>'"
      ]
     },
     "execution_count": 5,
     "metadata": {},
     "output_type": "execute_result"
    }
   ],
   "source": [
    "# XSLT method applied on 'test.xml'\n",
    "PMS.XSLT('/Users/max/test.xsl')"
   ]
  },
  {
   "cell_type": "code",
   "execution_count": 7,
   "metadata": {
    "ExecuteTime": {
     "end_time": "2019-06-15T14:08:06.580670Z",
     "start_time": "2019-06-15T14:08:05.605223Z"
    }
   },
   "outputs": [
    {
     "name": "stdout",
     "output_type": "stream",
     "text": [
      "The query //b-extended/s returned <s>mit einem</s> items.\n"
     ]
    },
    {
     "data": {
      "text/plain": [
       "'<s>mit einem</s>'"
      ]
     },
     "execution_count": 7,
     "metadata": {},
     "output_type": "execute_result"
    }
   ],
   "source": [
    "# XPath method applied on string input\n",
    "fromString = PMS.XSLT('/Users/max/test.xsl')\n",
    "PMS.XPath('//b-extended/s',fromString=fromString)"
   ]
  },
  {
   "cell_type": "code",
   "execution_count": 7,
   "metadata": {
    "ExecuteTime": {
     "end_time": "2019-06-15T14:35:03.417791Z",
     "start_time": "2019-06-15T14:35:00.948349Z"
    }
   },
   "outputs": [
    {
     "name": "stdout",
     "output_type": "stream",
     "text": [
      "The query //b returned <b id=\"x\">Eintrag <s>mit einem</s> X</b><b id=\"z\">Eintrag mit Z</b><b id=\"x\">Zweiter Eintrag mit X</b> items.\n"
     ]
    },
    {
     "data": {
      "text/plain": [
       "['<b id=\"x\">Eintrag <s>mit einem</s> X</b>',\n",
       " '<b id=\"z\">Eintrag mit Z</b>',\n",
       " '<b id=\"x\">Zweiter Eintrag mit X</b>']"
      ]
     },
     "execution_count": 7,
     "metadata": {},
     "output_type": "execute_result"
    }
   ],
   "source": [
    "PMS.findAllNodes('//b')"
   ]
  },
  {
   "cell_type": "code",
   "execution_count": 8,
   "metadata": {
    "ExecuteTime": {
     "end_time": "2019-06-15T14:35:06.943240Z",
     "start_time": "2019-06-15T14:35:05.867371Z"
    }
   },
   "outputs": [
    {
     "name": "stdout",
     "output_type": "stream",
     "text": [
      "The query //b returned Eintrag mit einem X; Eintrag mit Z; Zweiter Eintrag mit X items.\n"
     ]
    },
    {
     "data": {
      "text/plain": [
       "['Eintrag mit einem X', 'Eintrag mit Z', 'Zweiter Eintrag mit X']"
      ]
     },
     "execution_count": 8,
     "metadata": {},
     "output_type": "execute_result"
    }
   ],
   "source": [
    "PMS.findAllTextNodesOf('//b')"
   ]
  },
  {
   "cell_type": "markdown",
   "metadata": {},
   "source": [
    "## String input"
   ]
  },
  {
   "cell_type": "code",
   "execution_count": 9,
   "metadata": {
    "ExecuteTime": {
     "end_time": "2019-06-15T14:08:07.649420Z",
     "start_time": "2019-06-15T14:08:07.644621Z"
    }
   },
   "outputs": [],
   "source": [
    "fromString = \"\"\"<a>\n",
    "    <b id=\"x\">Eintrag <s>mit einem</s> X</b>\n",
    "    <b id=\"z\">Eintrag mit Z</b>\n",
    "    <b id=\"x\">Zweiter Eintrag mit X</b>\n",
    "</a>\"\"\""
   ]
  },
  {
   "cell_type": "code",
   "execution_count": 10,
   "metadata": {
    "ExecuteTime": {
     "end_time": "2019-06-15T14:08:07.658035Z",
     "start_time": "2019-06-15T14:08:07.653099Z"
    }
   },
   "outputs": [
    {
     "name": "stdout",
     "output_type": "stream",
     "text": [
      "<a>\n",
      "    <b id=\"x\">Eintrag <s>mit einem</s> X</b>\n",
      "    <b id=\"z\">Eintrag mit Z</b>\n",
      "    <b id=\"x\">Zweiter Eintrag mit X</b>\n",
      "</a>\n"
     ]
    }
   ],
   "source": [
    "print(fromString)"
   ]
  },
  {
   "cell_type": "code",
   "execution_count": 11,
   "metadata": {
    "ExecuteTime": {
     "end_time": "2019-06-15T14:08:08.983130Z",
     "start_time": "2019-06-15T14:08:07.662143Z"
    }
   },
   "outputs": [
    {
     "name": "stdout",
     "output_type": "stream",
     "text": [
      "The transformation /Users/max/test.xsl returned:\n",
      "<a>\n",
      "    <b-extended>Eintrag <s>mit einem</s> X</b-extended>\n",
      "    <b-extended>Eintrag mit Z</b-extended>\n",
      "    <b-extended>Zweiter Eintrag mit X</b-extended>\n",
      "</a>\n"
     ]
    },
    {
     "data": {
      "text/plain": [
       "'<a>\\n    <b-extended>Eintrag <s>mit einem</s> X</b-extended>\\n    <b-extended>Eintrag mit Z</b-extended>\\n    <b-extended>Zweiter Eintrag mit X</b-extended>\\n</a>'"
      ]
     },
     "execution_count": 11,
     "metadata": {},
     "output_type": "execute_result"
    }
   ],
   "source": [
    "# XSLT method applied on string input\n",
    "PMS.XSLT('/Users/max/test.xsl', fromString=fromString)"
   ]
  },
  {
   "cell_type": "markdown",
   "metadata": {},
   "source": [
    "## Instantiation without source file"
   ]
  },
  {
   "cell_type": "code",
   "execution_count": 12,
   "metadata": {
    "ExecuteTime": {
     "end_time": "2019-06-15T14:08:08.994101Z",
     "start_time": "2019-06-15T14:08:08.987468Z"
    }
   },
   "outputs": [
    {
     "name": "stdout",
     "output_type": "stream",
     "text": [
      "File Path error: \"False\" is not a correct path.\n"
     ]
    }
   ],
   "source": [
    "# Instantiation of 'empty' object without specific XML file to work on\n",
    "PMS_without_source_file = SW.PyMiniSaxon()"
   ]
  },
  {
   "cell_type": "code",
   "execution_count": 13,
   "metadata": {
    "ExecuteTime": {
     "end_time": "2019-06-15T14:08:10.182014Z",
     "start_time": "2019-06-15T14:08:08.997031Z"
    }
   },
   "outputs": [
    {
     "name": "stdout",
     "output_type": "stream",
     "text": [
      "The query //b[@id=\"x\"] returned <b id=\"x\">Eintrag <s>mit einem</s> X</b><b id=\"x\">Zweiter Eintrag mit X</b> items.\n"
     ]
    },
    {
     "data": {
      "text/plain": [
       "'<b id=\"x\">Eintrag <s>mit einem</s> X</b><b id=\"x\">Zweiter Eintrag mit X</b>'"
      ]
     },
     "execution_count": 13,
     "metadata": {},
     "output_type": "execute_result"
    }
   ],
   "source": [
    "# XPath method on string input\n",
    "PMS_without_source_file.XPath('//b[@id=\"x\"]', fromString)"
   ]
  },
  {
   "cell_type": "code",
   "execution_count": null,
   "metadata": {
    "ExecuteTime": {
     "end_time": "2019-06-15T13:57:36.300614Z",
     "start_time": "2019-06-15T13:57:36.294634Z"
    }
   },
   "outputs": [],
   "source": []
  },
  {
   "cell_type": "code",
   "execution_count": null,
   "metadata": {
    "ExecuteTime": {
     "end_time": "2019-06-15T13:49:18.559903Z",
     "start_time": "2019-06-15T13:49:18.551600Z"
    }
   },
   "outputs": [],
   "source": []
  },
  {
   "cell_type": "code",
   "execution_count": null,
   "metadata": {},
   "outputs": [],
   "source": []
  }
 ],
 "metadata": {
  "kernelspec": {
   "display_name": "Python 3",
   "language": "python",
   "name": "python3"
  },
  "language_info": {
   "codemirror_mode": {
    "name": "ipython",
    "version": 3
   },
   "file_extension": ".py",
   "mimetype": "text/x-python",
   "name": "python",
   "nbconvert_exporter": "python",
   "pygments_lexer": "ipython3",
   "version": "3.7.3"
  },
  "toc": {
   "colors": {
    "hover_highlight": "#DAA520",
    "navigate_num": "#000000",
    "navigate_text": "#333333",
    "running_highlight": "#FF0000",
    "selected_highlight": "#FFD700",
    "sidebar_border": "#EEEEEE",
    "wrapper_background": "#FFFFFF"
   },
   "moveMenuLeft": true,
   "nav_menu": {
    "height": "12px",
    "width": "252px"
   },
   "navigate_menu": true,
   "number_sections": true,
   "sideBar": false,
   "threshold": 4,
   "toc_cell": true,
   "toc_section_display": "block",
   "toc_window_display": true,
   "widenNotebook": false
  }
 },
 "nbformat": 4,
 "nbformat_minor": 2
}
