{
 "cells": [
  {
   "cell_type": "markdown",
   "metadata": {
    "toc": "true"
   },
   "source": [
    "# Table of Contents\n",
    " <p>"
   ]
  },
  {
   "cell_type": "code",
   "execution_count": 1,
   "metadata": {
    "ExecuteTime": {
     "end_time": "2019-06-15T14:08:00.267433Z",
     "start_time": "2019-06-15T14:07:58.654040Z"
    }
   },
   "outputs": [
    {
     "name": "stdout",
     "output_type": "stream",
     "text": [
      "Saxon path set to /Users/max/saxon/saxon9he.jar.\n"
     ]
    }
   ],
   "source": [
    "from Py3SaxCCLIWrapper import SaxWrapper as SW"
   ]
  },
  {
   "cell_type": "code",
   "execution_count": 2,
   "metadata": {
    "ExecuteTime": {
     "end_time": "2019-06-15T14:08:00.283789Z",
     "start_time": "2019-06-15T14:08:00.273523Z"
    }
   },
   "outputs": [
    {
     "name": "stdout",
     "output_type": "stream",
     "text": [
      "<?xml version=\"1.0\" encoding=\"UTF-8\"?>\n",
      "<a>\n",
      "    <b id=\"x\">Eintrag <s>mit einem</s> X</b>\n",
      "    <b id=\"z\">Eintrag mit Z</b>\n",
      "    <b id=\"x\">Zweiter Eintrag mit X</b>\n",
      "</a>\n",
      "\n"
     ]
    }
   ],
   "source": [
    "# Example XML file \n",
    "with open('/Users/max/test.xml', 'r') as test:\n",
    "    print(test.read())"
   ]
  },
  {
   "cell_type": "code",
   "execution_count": 3,
   "metadata": {
    "ExecuteTime": {
     "end_time": "2019-06-15T14:08:00.291884Z",
     "start_time": "2019-06-15T14:08:00.288020Z"
    }
   },
   "outputs": [],
   "source": [
    "# Instantiate the object with an XML file to work on \n",
    "PMS = SW.PyMiniSaxon(file='/Users/max/test.xml')"
   ]
  },
  {
   "cell_type": "code",
   "execution_count": 4,
   "metadata": {
    "ExecuteTime": {
     "end_time": "2019-06-15T14:08:02.710899Z",
     "start_time": "2019-06-15T14:08:00.296221Z"
    }
   },
   "outputs": [
    {
     "name": "stdout",
     "output_type": "stream",
     "text": [
      "The query //b[@id=\"x\"] returned <b id=\"x\">Eintrag <s>mit einem</s> X</b><b id=\"x\">Zweiter Eintrag mit X</b> items.\n"
     ]
    },
    {
     "data": {
      "text/plain": [
       "'<b id=\"x\">Eintrag <s>mit einem</s> X</b><b id=\"x\">Zweiter Eintrag mit X</b>'"
      ]
     },
     "execution_count": 4,
     "metadata": {},
     "output_type": "execute_result"
    }
   ],
   "source": [
    "# XPath method applied on 'test.xml'\n",
    "PMS.XPath('//b[@id=\"x\"]')"
   ]
  },
  {
   "cell_type": "code",
   "execution_count": 17,
   "metadata": {
    "ExecuteTime": {
     "end_time": "2019-06-15T14:17:03.210249Z",
     "start_time": "2019-06-15T14:17:00.769510Z"
    }
   },
   "outputs": [
    {
     "name": "stdout",
     "output_type": "stream",
     "text": [
      "The query //b[@id=\"x\"] returned 2 items.\n"
     ]
    },
    {
     "data": {
      "text/plain": [
       "2"
      ]
     },
     "execution_count": 17,
     "metadata": {},
     "output_type": "execute_result"
    }
   ],
   "source": [
    "# Count method applied on 'test.xml'\n",
    "PMS.count('//b[@id=\"x\"]')"
   ]
  },
  {
   "cell_type": "code",
   "execution_count": 5,
   "metadata": {
    "ExecuteTime": {
     "end_time": "2019-06-15T14:08:04.218635Z",
     "start_time": "2019-06-15T14:08:02.715442Z"
    }
   },
   "outputs": [
    {
     "name": "stdout",
     "output_type": "stream",
     "text": [
      "The transformation /Users/max/test.xsl returned:\n",
      "<a>\n",
      "    <b-extended>Eintrag <s>mit einem</s> X</b-extended>\n",
      "    <b-extended>Eintrag mit Z</b-extended>\n",
      "    <b-extended>Zweiter Eintrag mit X</b-extended>\n",
      "</a>\n"
     ]
    },
    {
     "data": {
      "text/plain": [
       "'<a>\\n    <b-extended>Eintrag <s>mit einem</s> X</b-extended>\\n    <b-extended>Eintrag mit Z</b-extended>\\n    <b-extended>Zweiter Eintrag mit X</b-extended>\\n</a>'"
      ]
     },
     "execution_count": 5,
     "metadata": {},
     "output_type": "execute_result"
    }
   ],
   "source": [
    "# XSLT method applied on 'test.xml'\n",
    "PMS.XSLT('/Users/max/test.xsl')"
   ]
  },
  {
   "cell_type": "code",
   "execution_count": 6,
   "metadata": {
    "ExecuteTime": {
     "end_time": "2019-06-15T14:08:05.602292Z",
     "start_time": "2019-06-15T14:08:04.222403Z"
    }
   },
   "outputs": [
    {
     "name": "stdout",
     "output_type": "stream",
     "text": [
      "The transformation /Users/max/test.xsl returned:\n",
      "<a>\n",
      "    <b-extended>Eintrag <s>mit einem</s> X</b-extended>\n",
      "    <b-extended>Eintrag mit Z</b-extended>\n",
      "    <b-extended>Zweiter Eintrag mit X</b-extended>\n",
      "</a>\n"
     ]
    }
   ],
   "source": [
    "fromString = PMS.XSLT('/Users/max/test.xsl')"
   ]
  },
  {
   "cell_type": "code",
   "execution_count": 7,
   "metadata": {
    "ExecuteTime": {
     "end_time": "2019-06-15T14:08:06.580670Z",
     "start_time": "2019-06-15T14:08:05.605223Z"
    }
   },
   "outputs": [
    {
     "name": "stdout",
     "output_type": "stream",
     "text": [
      "The query //b-extended/s returned <s>mit einem</s> items.\n"
     ]
    },
    {
     "data": {
      "text/plain": [
       "'<s>mit einem</s>'"
      ]
     },
     "execution_count": 7,
     "metadata": {},
     "output_type": "execute_result"
    }
   ],
   "source": [
    "# XPath method applied on string input\n",
    "PMS.XPath('//b-extended/s',fromString=fromString)"
   ]
  },
  {
   "cell_type": "code",
   "execution_count": 8,
   "metadata": {
    "ExecuteTime": {
     "end_time": "2019-06-15T14:08:07.640574Z",
     "start_time": "2019-06-15T14:08:06.585390Z"
    }
   },
   "outputs": [
    {
     "name": "stdout",
     "output_type": "stream",
     "text": [
      "The query //b returned Eintrag mit einem X; Eintrag mit Z; Zweiter Eintrag mit X items.\n"
     ]
    },
    {
     "data": {
      "text/plain": [
       "['Eintrag mit einem X', 'Eintrag mit Z', 'Zweiter Eintrag mit X']"
      ]
     },
     "execution_count": 8,
     "metadata": {},
     "output_type": "execute_result"
    }
   ],
   "source": [
    "PMS.findAllTextNodesOf('//b')"
   ]
  },
  {
   "cell_type": "code",
   "execution_count": 9,
   "metadata": {
    "ExecuteTime": {
     "end_time": "2019-06-15T14:08:07.649420Z",
     "start_time": "2019-06-15T14:08:07.644621Z"
    }
   },
   "outputs": [],
   "source": [
    "fromString = \"\"\"<a>\n",
    "    <b id=\"x\">Eintrag <s>mit einem</s> X</b>\n",
    "    <b id=\"z\">Eintrag mit Z</b>\n",
    "    <b id=\"x\">Zweiter Eintrag mit X</b>\n",
    "</a>\"\"\""
   ]
  },
  {
   "cell_type": "code",
   "execution_count": 10,
   "metadata": {
    "ExecuteTime": {
     "end_time": "2019-06-15T14:08:07.658035Z",
     "start_time": "2019-06-15T14:08:07.653099Z"
    }
   },
   "outputs": [
    {
     "name": "stdout",
     "output_type": "stream",
     "text": [
      "<a>\n",
      "    <b id=\"x\">Eintrag <s>mit einem</s> X</b>\n",
      "    <b id=\"z\">Eintrag mit Z</b>\n",
      "    <b id=\"x\">Zweiter Eintrag mit X</b>\n",
      "</a>\n"
     ]
    }
   ],
   "source": [
    "print(fromString)"
   ]
  },
  {
   "cell_type": "code",
   "execution_count": 11,
   "metadata": {
    "ExecuteTime": {
     "end_time": "2019-06-15T14:08:08.983130Z",
     "start_time": "2019-06-15T14:08:07.662143Z"
    }
   },
   "outputs": [
    {
     "name": "stdout",
     "output_type": "stream",
     "text": [
      "The transformation /Users/max/test.xsl returned:\n",
      "<a>\n",
      "    <b-extended>Eintrag <s>mit einem</s> X</b-extended>\n",
      "    <b-extended>Eintrag mit Z</b-extended>\n",
      "    <b-extended>Zweiter Eintrag mit X</b-extended>\n",
      "</a>\n"
     ]
    },
    {
     "data": {
      "text/plain": [
       "'<a>\\n    <b-extended>Eintrag <s>mit einem</s> X</b-extended>\\n    <b-extended>Eintrag mit Z</b-extended>\\n    <b-extended>Zweiter Eintrag mit X</b-extended>\\n</a>'"
      ]
     },
     "execution_count": 11,
     "metadata": {},
     "output_type": "execute_result"
    }
   ],
   "source": [
    "# XSLT method applied on string input\n",
    "PMS.XSLT('/Users/max/test.xsl', fromString=fromString)"
   ]
  },
  {
   "cell_type": "code",
   "execution_count": 12,
   "metadata": {
    "ExecuteTime": {
     "end_time": "2019-06-15T14:08:08.994101Z",
     "start_time": "2019-06-15T14:08:08.987468Z"
    }
   },
   "outputs": [
    {
     "name": "stdout",
     "output_type": "stream",
     "text": [
      "File Path error: \"False\" is not a correct path.\n"
     ]
    }
   ],
   "source": [
    "# Instantiation of 'empty' object without specific XML file to work on\n",
    "PMS_without_source_file = SW.PyMiniSaxon()"
   ]
  },
  {
   "cell_type": "code",
   "execution_count": 13,
   "metadata": {
    "ExecuteTime": {
     "end_time": "2019-06-15T14:08:10.182014Z",
     "start_time": "2019-06-15T14:08:08.997031Z"
    }
   },
   "outputs": [
    {
     "name": "stdout",
     "output_type": "stream",
     "text": [
      "The query //b[@id=\"x\"] returned <b id=\"x\">Eintrag <s>mit einem</s> X</b><b id=\"x\">Zweiter Eintrag mit X</b> items.\n"
     ]
    },
    {
     "data": {
      "text/plain": [
       "'<b id=\"x\">Eintrag <s>mit einem</s> X</b><b id=\"x\">Zweiter Eintrag mit X</b>'"
      ]
     },
     "execution_count": 13,
     "metadata": {},
     "output_type": "execute_result"
    }
   ],
   "source": [
    "# XPath method on string input\n",
    "PMS_without_source_file.XPath('//b[@id=\"x\"]', fromString)"
   ]
  },
  {
   "cell_type": "code",
   "execution_count": null,
   "metadata": {
    "ExecuteTime": {
     "end_time": "2019-06-15T13:57:36.300614Z",
     "start_time": "2019-06-15T13:57:36.294634Z"
    }
   },
   "outputs": [],
   "source": []
  },
  {
   "cell_type": "code",
   "execution_count": null,
   "metadata": {
    "ExecuteTime": {
     "end_time": "2019-06-15T13:49:18.559903Z",
     "start_time": "2019-06-15T13:49:18.551600Z"
    }
   },
   "outputs": [],
   "source": []
  },
  {
   "cell_type": "code",
   "execution_count": null,
   "metadata": {},
   "outputs": [],
   "source": []
  }
 ],
 "metadata": {
  "kernelspec": {
   "display_name": "Python 3",
   "language": "python",
   "name": "python3"
  },
  "language_info": {
   "codemirror_mode": {
    "name": "ipython",
    "version": 3
   },
   "file_extension": ".py",
   "mimetype": "text/x-python",
   "name": "python",
   "nbconvert_exporter": "python",
   "pygments_lexer": "ipython3",
   "version": "3.7.3"
  },
  "toc": {
   "colors": {
    "hover_highlight": "#DAA520",
    "navigate_num": "#000000",
    "navigate_text": "#333333",
    "running_highlight": "#FF0000",
    "selected_highlight": "#FFD700",
    "sidebar_border": "#EEEEEE",
    "wrapper_background": "#FFFFFF"
   },
   "moveMenuLeft": true,
   "nav_menu": {
    "height": "12px",
    "width": "252px"
   },
   "navigate_menu": true,
   "number_sections": true,
   "sideBar": false,
   "threshold": 4,
   "toc_cell": true,
   "toc_section_display": "block",
   "toc_window_display": true,
   "widenNotebook": false
  }
 },
 "nbformat": 4,
 "nbformat_minor": 2
}
