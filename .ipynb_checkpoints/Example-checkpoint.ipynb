{
 "cells": [
  {
   "cell_type": "markdown",
   "metadata": {
    "toc": "true"
   },
   "source": [
    "# Table of Contents\n",
    " <p>"
   ]
  },
  {
   "cell_type": "code",
   "execution_count": 1,
   "metadata": {
    "ExecuteTime": {
     "end_time": "2019-06-15T13:26:56.740216Z",
     "start_time": "2019-06-15T13:26:55.369579Z"
    }
   },
   "outputs": [
    {
     "name": "stdout",
     "output_type": "stream",
     "text": [
      "Saxon path set to /Users/max/saxon/saxon9he.jar.\n"
     ]
    }
   ],
   "source": [
    "from Py3SaxCCLIWrapper import SaxWrapper as SW"
   ]
  },
  {
   "cell_type": "code",
   "execution_count": 2,
   "metadata": {
    "ExecuteTime": {
     "end_time": "2019-06-15T13:26:56.750028Z",
     "start_time": "2019-06-15T13:26:56.744459Z"
    }
   },
   "outputs": [],
   "source": [
    "PMS = SW.PyMiniSaxon(file='/Users/max/test.xml')"
   ]
  },
  {
   "cell_type": "code",
   "execution_count": 3,
   "metadata": {
    "ExecuteTime": {
     "end_time": "2019-06-15T13:26:59.247199Z",
     "start_time": "2019-06-15T13:26:56.754122Z"
    }
   },
   "outputs": [
    {
     "name": "stdout",
     "output_type": "stream",
     "text": [
      "The query //b[@id=\"x\"] returned <b id=\"x\">Eintrag <s>mit einem</s> X</b><b id=\"x\">Zweiter Eintrag mit X</b> items.\n"
     ]
    },
    {
     "data": {
      "text/plain": [
       "'<b id=\"x\">Eintrag <s>mit einem</s> X</b><b id=\"x\">Zweiter Eintrag mit X</b>'"
      ]
     },
     "execution_count": 3,
     "metadata": {},
     "output_type": "execute_result"
    }
   ],
   "source": [
    "PMS.XPath('//b[@id=\"x\"]')"
   ]
  },
  {
   "cell_type": "code",
   "execution_count": 4,
   "metadata": {
    "ExecuteTime": {
     "end_time": "2019-06-15T13:27:00.786130Z",
     "start_time": "2019-06-15T13:26:59.251941Z"
    }
   },
   "outputs": [
    {
     "name": "stdout",
     "output_type": "stream",
     "text": [
      "The transformation /Users/max/test.xsl returned:\n",
      "<a>\n",
      "    <b-extended>Eintrag <s>mit einem</s> X</b-extended>\n",
      "    <b-extended>Eintrag mit Z</b-extended>\n",
      "    <b-extended>Zweiter Eintrag mit X</b-extended>\n",
      "</a>\n"
     ]
    },
    {
     "data": {
      "text/plain": [
       "'<a>\\n    <b-extended>Eintrag <s>mit einem</s> X</b-extended>\\n    <b-extended>Eintrag mit Z</b-extended>\\n    <b-extended>Zweiter Eintrag mit X</b-extended>\\n</a>'"
      ]
     },
     "execution_count": 4,
     "metadata": {},
     "output_type": "execute_result"
    }
   ],
   "source": [
    "PMS.XSLT('/Users/max/test.xsl')"
   ]
  },
  {
   "cell_type": "code",
   "execution_count": 5,
   "metadata": {
    "ExecuteTime": {
     "end_time": "2019-06-15T13:27:02.039660Z",
     "start_time": "2019-06-15T13:27:00.790328Z"
    }
   },
   "outputs": [
    {
     "name": "stdout",
     "output_type": "stream",
     "text": [
      "The transformation /Users/max/test.xsl returned:\n",
      "<a>\n",
      "    <b-extended>Eintrag <s>mit einem</s> X</b-extended>\n",
      "    <b-extended>Eintrag mit Z</b-extended>\n",
      "    <b-extended>Zweiter Eintrag mit X</b-extended>\n",
      "</a>\n"
     ]
    }
   ],
   "source": [
    "fromString = PMS.XSLT('/Users/max/test.xsl')"
   ]
  },
  {
   "cell_type": "code",
   "execution_count": 6,
   "metadata": {
    "ExecuteTime": {
     "end_time": "2019-06-15T13:27:03.054794Z",
     "start_time": "2019-06-15T13:27:02.043860Z"
    }
   },
   "outputs": [
    {
     "name": "stdout",
     "output_type": "stream",
     "text": [
      "The query //b-extended/s returned <s>mit einem</s> items.\n"
     ]
    },
    {
     "data": {
      "text/plain": [
       "'<s>mit einem</s>'"
      ]
     },
     "execution_count": 6,
     "metadata": {},
     "output_type": "execute_result"
    }
   ],
   "source": [
    "PMS.XPath('//b-extended/s',fromString=fromString)"
   ]
  },
  {
   "cell_type": "code",
   "execution_count": 7,
   "metadata": {
    "ExecuteTime": {
     "end_time": "2019-06-15T13:27:04.047141Z",
     "start_time": "2019-06-15T13:27:03.058791Z"
    }
   },
   "outputs": [
    {
     "name": "stdout",
     "output_type": "stream",
     "text": [
      "The query //b returned Eintrag mit einem X; Eintrag mit Z; Zweiter Eintrag mit X items.\n"
     ]
    },
    {
     "data": {
      "text/plain": [
       "['Eintrag mit einem X', 'Eintrag mit Z', 'Zweiter Eintrag mit X']"
      ]
     },
     "execution_count": 7,
     "metadata": {},
     "output_type": "execute_result"
    }
   ],
   "source": [
    "PMS.findAllTextNodesOf('//b')"
   ]
  },
  {
   "cell_type": "code",
   "execution_count": 8,
   "metadata": {
    "ExecuteTime": {
     "end_time": "2019-06-15T13:27:04.060666Z",
     "start_time": "2019-06-15T13:27:04.052438Z"
    }
   },
   "outputs": [],
   "source": [
    "fromString = \"\"\"<a>\n",
    "    <b id=\"x\">Eintrag <s>mit einem</s> X</b>\n",
    "    <b id=\"z\">Eintrag mit Z</b>\n",
    "    <b id=\"x\">Zweiter Eintrag mit X</b>\n",
    "</a>\"\"\""
   ]
  },
  {
   "cell_type": "code",
   "execution_count": 9,
   "metadata": {
    "ExecuteTime": {
     "end_time": "2019-06-15T13:27:04.074805Z",
     "start_time": "2019-06-15T13:27:04.064516Z"
    }
   },
   "outputs": [
    {
     "name": "stdout",
     "output_type": "stream",
     "text": [
      "<a>\n",
      "    <b id=\"x\">Eintrag <s>mit einem</s> X</b>\n",
      "    <b id=\"z\">Eintrag mit Z</b>\n",
      "    <b id=\"x\">Zweiter Eintrag mit X</b>\n",
      "</a>\n"
     ]
    }
   ],
   "source": [
    "print(fromString)"
   ]
  },
  {
   "cell_type": "code",
   "execution_count": 10,
   "metadata": {
    "ExecuteTime": {
     "end_time": "2019-06-15T13:27:05.519776Z",
     "start_time": "2019-06-15T13:27:04.078448Z"
    }
   },
   "outputs": [
    {
     "name": "stdout",
     "output_type": "stream",
     "text": [
      "The transformation /Users/max/test.xsl returned:\n",
      "<a>\n",
      "    <b-extended>Eintrag <s>mit einem</s> X</b-extended>\n",
      "    <b-extended>Eintrag mit Z</b-extended>\n",
      "    <b-extended>Zweiter Eintrag mit X</b-extended>\n",
      "</a>\n"
     ]
    },
    {
     "data": {
      "text/plain": [
       "'<a>\\n    <b-extended>Eintrag <s>mit einem</s> X</b-extended>\\n    <b-extended>Eintrag mit Z</b-extended>\\n    <b-extended>Zweiter Eintrag mit X</b-extended>\\n</a>'"
      ]
     },
     "execution_count": 10,
     "metadata": {},
     "output_type": "execute_result"
    }
   ],
   "source": [
    "PMS.XSLT('/Users/max/test.xsl', fromString=fromString)"
   ]
  }
 ],
 "metadata": {
  "kernelspec": {
   "display_name": "Python 3",
   "language": "python",
   "name": "python3"
  },
  "language_info": {
   "codemirror_mode": {
    "name": "ipython",
    "version": 3
   },
   "file_extension": ".py",
   "mimetype": "text/x-python",
   "name": "python",
   "nbconvert_exporter": "python",
   "pygments_lexer": "ipython3",
   "version": "3.7.3"
  },
  "toc": {
   "colors": {
    "hover_highlight": "#DAA520",
    "navigate_num": "#000000",
    "navigate_text": "#333333",
    "running_highlight": "#FF0000",
    "selected_highlight": "#FFD700",
    "sidebar_border": "#EEEEEE",
    "wrapper_background": "#FFFFFF"
   },
   "moveMenuLeft": true,
   "nav_menu": {
    "height": "12px",
    "width": "252px"
   },
   "navigate_menu": true,
   "number_sections": true,
   "sideBar": false,
   "threshold": 4,
   "toc_cell": true,
   "toc_section_display": "block",
   "toc_window_display": true,
   "widenNotebook": false
  }
 },
 "nbformat": 4,
 "nbformat_minor": 2
}
